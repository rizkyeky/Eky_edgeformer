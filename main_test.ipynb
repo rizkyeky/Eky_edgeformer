{
 "cells": [
  {
   "cell_type": "code",
   "execution_count": null,
   "metadata": {},
   "outputs": [],
   "source": [
    "import os\n",
    "from torchmetrics.detection.mean_ap import MeanAveragePrecision\n",
    "from pprint import pprint\n",
    "import torch\n",
    "# from tqdm import tqdm\n",
    "import main_dec\n",
    "from torchvision import transforms\n",
    "import random\n",
    "import xml.etree.ElementTree as ET\n",
    "import cv2\n",
    "import numpy as np\n"
   ]
  },
  {
   "cell_type": "code",
   "execution_count": 4,
   "metadata": {},
   "outputs": [],
   "source": [
    "\n",
    "def extract_xml(batch, _dir):\n",
    "    boxes_batch = []\n",
    "    scores_batch = []\n",
    "    labels_batch = []\n",
    "    for file in batch:\n",
    "        xml_file = file[:-3] + 'xml'\n",
    "        tree = ET.parse(_dir + '/' + xml_file)\n",
    "        root = tree.getroot()\n",
    "\n",
    "        boxes = []\n",
    "        scores = []\n",
    "        labels = []\n",
    "\n",
    "        for obj in root.findall('object'):\n",
    "            name = obj.find('name').text\n",
    "            label = 0\n",
    "            if name == 'robot':\n",
    "                label = 1\n",
    "            elif name == 'ball':\n",
    "                label = 2\n",
    "            elif name == 'goal':\n",
    "                label = 3\n",
    "            bndbox = obj.find('bndbox')\n",
    "            xmin = float(bndbox.find('xmin').text)\n",
    "            ymin = float(bndbox.find('ymin').text)\n",
    "            xmax = float(bndbox.find('xmax').text)\n",
    "            ymax = float(bndbox.find('ymax').text)\n",
    "            boxes.append([xmax, ymax, xmin, ymin])\n",
    "            scores.append(1.0)\n",
    "            labels.append(label)\n",
    "        \n",
    "        # print(xml_file)\n",
    "        # print(np.array(boxes).shape)\n",
    "\n",
    "        boxes_batch.append(boxes)\n",
    "        scores_batch.append(scores)\n",
    "        labels_batch.append(labels)\n",
    "\n",
    "    return boxes_batch, scores_batch, labels_batch"
   ]
  },
  {
   "cell_type": "code",
   "execution_count": 5,
   "metadata": {},
   "outputs": [
    {
     "ename": "NameError",
     "evalue": "name 'random' is not defined",
     "output_type": "error",
     "traceback": [
      "\u001b[0;31m---------------------------------------------------------------------------\u001b[0m",
      "\u001b[0;31mNameError\u001b[0m                                 Traceback (most recent call last)",
      "Cell \u001b[0;32mIn[5], line 11\u001b[0m\n\u001b[1;32m      9\u001b[0m file_list \u001b[39m=\u001b[39m \u001b[39msorted\u001b[39m(os\u001b[39m.\u001b[39mlistdir(_dir))\n\u001b[1;32m     10\u001b[0m image_list \u001b[39m=\u001b[39m [file \u001b[39mfor\u001b[39;00m file \u001b[39min\u001b[39;00m file_list \u001b[39mif\u001b[39;00m file\u001b[39m.\u001b[39mendswith(\u001b[39m'\u001b[39m\u001b[39m.jpg\u001b[39m\u001b[39m'\u001b[39m)]\n\u001b[0;32m---> 11\u001b[0m random\u001b[39m.\u001b[39mshuffle(image_list)\n\u001b[1;32m     13\u001b[0m image_batchs \u001b[39m=\u001b[39m [image_list[i:i \u001b[39m+\u001b[39m BATCH_SIZE] \u001b[39mfor\u001b[39;00m i \u001b[39min\u001b[39;00m \u001b[39mrange\u001b[39m(\u001b[39m0\u001b[39m, \u001b[39mlen\u001b[39m(image_list), BATCH_SIZE)]\n\u001b[1;32m     14\u001b[0m random\u001b[39m.\u001b[39mshuffle(image_batchs)\n",
      "\u001b[0;31mNameError\u001b[0m: name 'random' is not defined"
     ]
    }
   ],
   "source": [
    "preds = []\n",
    "targets = []\n",
    "    \n",
    "BATCH_SIZE = 32\n",
    "    \n",
    "_dir = '/Users/eky/Documents/_SKRIPSI/_dataset/_balance/images/test'\n",
    "# ann_dir = '/Users/eky/Documents/_SKRIPSI/_dataset/_balance/annotations/test'\n",
    "\n",
    "file_list = sorted(os.listdir(_dir))\n",
    "image_list = [file for file in file_list if file.endswith('.jpg')]\n",
    "random.shuffle(image_list)\n",
    "\n",
    "image_batchs = [image_list[i:i + BATCH_SIZE] for i in range(0, len(image_list), BATCH_SIZE)]\n",
    "random.shuffle(image_batchs)\n",
    "\n",
    "# print(len(image_batchs))\n",
    "\n",
    "model = main_dec.init_model()\n",
    "metric = MeanAveragePrecision()\n",
    "\n",
    "with torch.no_grad():\n",
    "    \n",
    "    for i, batch in enumerate(image_batchs):\n",
    "        print('batch:', i+1)\n",
    "\n",
    "        target_boxes, target_scores, target_labels = extract_xml(batch, _dir)\n",
    "\n",
    "        for boxes, scores, labels in zip(target_boxes, target_scores, target_labels):\n",
    "            targets.append({\n",
    "                'boxes': torch.tensor(boxes).to(torch.int16),\n",
    "                'scores': torch.tensor(scores),\n",
    "                'labels': torch.tensor(labels),\n",
    "            })\n",
    "\n",
    "        pred_labels, pred_scores, pred_boxes = main_dec.predict_image_batch(model, batch, _dir)\n",
    "        \n",
    "        # print(type(labels), type(scores), type(boxes))\n",
    "        for boxes, scores, labels in zip(pred_boxes, pred_scores, pred_labels):\n",
    "            preds.append({\n",
    "                'boxes': torch.tensor(boxes),\n",
    "                'scores': torch.tensor(scores),\n",
    "                'labels': torch.tensor(labels),\n",
    "            })"
   ]
  },
  {
   "cell_type": "code",
   "execution_count": null,
   "metadata": {},
   "outputs": [],
   "source": [
    "metric.update(preds, targets)\n",
    "pprint(metric.compute())"
   ]
  }
 ],
 "metadata": {
  "kernelspec": {
   "display_name": "cv",
   "language": "python",
   "name": "python3"
  },
  "language_info": {
   "codemirror_mode": {
    "name": "ipython",
    "version": 3
   },
   "file_extension": ".py",
   "mimetype": "text/x-python",
   "name": "python",
   "nbconvert_exporter": "python",
   "pygments_lexer": "ipython3",
   "version": "3.9.15"
  },
  "orig_nbformat": 4
 },
 "nbformat": 4,
 "nbformat_minor": 2
}
