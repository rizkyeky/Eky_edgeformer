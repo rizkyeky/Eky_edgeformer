{
 "cells": [
  {
   "cell_type": "code",
   "execution_count": 1,
   "metadata": {},
   "outputs": [
    {
     "data": {
      "text/plain": [
       "'1.13.1'"
      ]
     },
     "execution_count": 1,
     "metadata": {},
     "output_type": "execute_result"
    }
   ],
   "source": [
    "import torch\n",
    "torch.__version__"
   ]
  },
  {
   "cell_type": "code",
   "execution_count": 5,
   "metadata": {},
   "outputs": [],
   "source": [
    "checkpoint_path = 'parcnet/pretrained_models/detection/checkpoint_ema_avg.pt'\n",
    "\n",
    "\n",
    "exception = [\n",
    "    'ssd_heads.0.proj_layer.block.conv.weight',\n",
    "    'ssd_heads.0.loc_cls_layer.dw_conv.block.conv.weight',\n",
    "    'ssd_heads.1.proj_layer.block.conv.weight',\n",
    "    'ssd_heads.1.loc_cls_layer.dw_conv.block.conv.weight',\n",
    "    'ssd_heads.2.loc_cls_layer.dw_conv.block.conv.weight',\n",
    "    'ssd_heads.3.loc_cls_layer.dw_conv.block.conv.weight',\n",
    "    'ssd_heads.4.loc_cls_layer.dw_conv.block.conv.weight'\n",
    "]\n",
    "\n",
    "checkpoint = torch.load(checkpoint_path, map_location='cpu')\n",
    "for key in checkpoint.keys():\n",
    "    if key in exception:\n",
    "        continue\n",
    "    elif key.startswith('ssd_heads.5') and key.endswith('conv.weight'):\n",
    "        # print(key)\n",
    "        # print(checkpoint[key].shape)\n",
    "        weight_tens = checkpoint[key]\n",
    "        checkpoint[key] = weight_tens[:28, :, :, :]\n",
    "    elif key.startswith('ssd_heads.5') and key.endswith('conv.bias'):\n",
    "        # print(key)\n",
    "        # print(checkpoint[key].shape)\n",
    "        bias_tens = checkpoint[key]\n",
    "        checkpoint[key] = bias_tens[:28]\n",
    "    elif key.startswith('ssd_heads') and key.endswith('conv.weight'):\n",
    "        # print(key)\n",
    "        # print(checkpoint[key].shape)\n",
    "        weight_tens = checkpoint[key]\n",
    "        checkpoint[key] = weight_tens[:42, :, :, :]\n",
    "    elif key.startswith('ssd_heads') and key.endswith('conv.bias'):\n",
    "        # print(key)\n",
    "        # print(checkpoint[key].shape)\n",
    "        bias_tens = checkpoint[key]\n",
    "        checkpoint[key] = bias_tens[:42]\n",
    "\n",
    "torch.save(checkpoint, 'parcnet/pretrained_models/detection/checkpoint_ema_avg_num3.pt')"
   ]
  },
  {
   "cell_type": "code",
   "execution_count": null,
   "metadata": {},
   "outputs": [],
   "source": [
    "from ultralytics import YOLO\n",
    "import numpy as np\n",
    "from PIL import Image, ImageDraw\n",
    "\n",
    "print(np.__version__, np.__path__)\n",
    "np.bool(False)"
   ]
  },
  {
   "cell_type": "code",
   "execution_count": 4,
   "metadata": {},
   "outputs": [],
   "source": [
    "model = YOLO(\"pretrained/yolov8_krsbi.pt\")\n"
   ]
  },
  {
   "cell_type": "code",
   "execution_count": null,
   "metadata": {},
   "outputs": [],
   "source": [
    "CLASSES = ['robot', 'ball', 'goal']\n",
    "    \n",
    "COLORS = np.random.uniform(0, 255, size=(len(CLASSES), 3))\n",
    "COLORS = COLORS.astype(np.uint8)\n",
    "\n",
    "img = 'images_test/krsbi5.jpg'\n",
    "results = model(img)\n",
    "\n",
    "image = Image.open(img)\n",
    "draw = ImageDraw.Draw(image)\n",
    "\n",
    "boxes = results[0].boxes\n",
    "\n",
    "for box, score, idx in zip(boxes, boxes.conf, boxes.cls):\n",
    "    # score = boxes.conf\n",
    "    # print(score)\n",
    "    # idx = boxes.cls\n",
    "    # print(idx)\n",
    "    (startX, startY, endX, endY) = box.xyxy.cpu().numpy().squeeze()\n",
    "    idx = int(idx.item())\n",
    "    score = score.item()\n",
    "    label = \"{}: {:.2f}%\".format(CLASSES[idx], score * 100)\n",
    "\n",
    "    draw.rectangle(\n",
    "        [(startX, startY), (endX, endY)],\n",
    "        outline=tuple(COLORS[idx]),\n",
    "        width=3\n",
    "    )\n",
    "    y = startY - 15 if startY - 15 > 15 else startY + 15\n",
    "    draw.text((startX, y), label, tuple(COLORS[idx]))\n",
    "\n",
    "image"
   ]
  },
  {
   "cell_type": "code",
   "execution_count": 3,
   "metadata": {},
   "outputs": [
    {
     "name": "stderr",
     "output_type": "stream",
     "text": [
      "Ultralytics YOLOv8.0.38 🚀 Python-3.9.15 torch-1.12.1 CPU\n",
      "Model summary (fused): 268 layers, 68126457 parameters, 0 gradients, 257.4 GFLOPs\n",
      "\n",
      "\u001b[34m\u001b[1mPyTorch:\u001b[0m starting from pretrained/yolov8_krsbi.pt with input shape (1, 3, 640, 640) BCHW and output shape(s) (1, 7, 8400) (130.4 MB)\n",
      "\n",
      "\u001b[34m\u001b[1mCoreML:\u001b[0m starting export with coremltools 6.1...\n",
      "Converting PyTorch Frontend ==> MIL Ops: 100%|█████████▉| 847/848 [00:00<00:00, 3572.86 ops/s]\n",
      "Running MIL Common passes: 100%|██████████| 39/39 [00:00<00:00, 101.77 passes/s]\n",
      "Running MIL Clean up passes: 100%|██████████| 11/11 [00:00<00:00, 46.59 passes/s]\n",
      "Translating MIL ==> NeuralNetwork Ops:  95%|█████████▌| 932/979 [00:53<00:05,  8.19 ops/s]  Const anchor_points was already added.\n",
      "Translating MIL ==> NeuralNetwork Ops: 100%|██████████| 979/979 [00:53<00:00, 18.27 ops/s]\n",
      "\u001b[34m\u001b[1mCoreML:\u001b[0m export success ✅ 673.6s, saved as pretrained/yolov8_krsbi.mlmodel (260.0 MB)\n",
      "\n",
      "Export complete (680.7s)\n",
      "Results saved to \u001b[1m/Users/eky/Documents/_SKRIPSI/code/pretrained\u001b[0m\n",
      "Predict:         yolo task=detect mode=predict model=pretrained/yolov8_krsbi.mlmodel imgsz=640\n",
      "Validate:        yolo task=detect mode=val model=pretrained/yolov8_krsbi.mlmodel imgsz=640 data=krsbi.yaml \n",
      "Visualize:       https://netron.app\n"
     ]
    },
    {
     "data": {
      "text/plain": [
       "'pretrained/yolov8_krsbi.mlmodel'"
      ]
     },
     "execution_count": 3,
     "metadata": {},
     "output_type": "execute_result"
    }
   ],
   "source": [
    "model.export(format='coreml')"
   ]
  }
 ],
 "metadata": {
  "kernelspec": {
   "display_name": "Python 3.9.15 ('cv')",
   "language": "python",
   "name": "python3"
  },
  "language_info": {
   "codemirror_mode": {
    "name": "ipython",
    "version": 3
   },
   "file_extension": ".py",
   "mimetype": "text/x-python",
   "name": "python",
   "nbconvert_exporter": "python",
   "pygments_lexer": "ipython3",
   "version": "3.9.15"
  },
  "vscode": {
   "interpreter": {
    "hash": "49cc7f33b63d2a59a94cdd5905a9d69fd357a4127d48e5e12af1b13af86b584e"
   }
  }
 },
 "nbformat": 4,
 "nbformat_minor": 2
}
